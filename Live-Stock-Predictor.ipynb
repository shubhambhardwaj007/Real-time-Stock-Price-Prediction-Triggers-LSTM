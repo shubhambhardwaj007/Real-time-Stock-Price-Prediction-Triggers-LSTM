{
 "cells": [
  {
   "cell_type": "code",
   "execution_count": 1,
   "id": "e7722415",
   "metadata": {},
   "outputs": [],
   "source": [
    "#Importing Stock Prices Dataset from YAHOO FINANCE\n",
    "import yfinance as yf"
   ]
  },
  {
   "cell_type": "code",
   "execution_count": 2,
   "id": "73db6abb",
   "metadata": {},
   "outputs": [],
   "source": [
    "#Here we importing Stock Prices Historical data of Apple Inc. from yahoo finances using Ticker\n",
    "stock_symbol = \"AAPL\"\n",
    "stockdata_period = \"10y\"\n",
    "stockdata_interval = \"1d\""
   ]
  },
  {
   "cell_type": "code",
   "execution_count": 3,
   "id": "dcacf251",
   "metadata": {},
   "outputs": [
    {
     "name": "stdout",
     "output_type": "stream",
     "text": [
      "[*********************100%***********************]  1 of 1 completed\n"
     ]
    }
   ],
   "source": [
    "#Fetching 10yrs stock prices historical data with an interval of 1 day\n",
    "dataset = yf.download(tickers=stock_symbol,period=stockdata_period,interval=stockdata_interval)"
   ]
  },
  {
   "cell_type": "code",
   "execution_count": 4,
   "id": "911312a7",
   "metadata": {},
   "outputs": [
    {
     "data": {
      "text/html": [
       "<div>\n",
       "<style scoped>\n",
       "    .dataframe tbody tr th:only-of-type {\n",
       "        vertical-align: middle;\n",
       "    }\n",
       "\n",
       "    .dataframe tbody tr th {\n",
       "        vertical-align: top;\n",
       "    }\n",
       "\n",
       "    .dataframe thead th {\n",
       "        text-align: right;\n",
       "    }\n",
       "</style>\n",
       "<table border=\"1\" class=\"dataframe\">\n",
       "  <thead>\n",
       "    <tr style=\"text-align: right;\">\n",
       "      <th></th>\n",
       "      <th>Open</th>\n",
       "      <th>High</th>\n",
       "      <th>Low</th>\n",
       "      <th>Close</th>\n",
       "      <th>Adj Close</th>\n",
       "      <th>Volume</th>\n",
       "    </tr>\n",
       "    <tr>\n",
       "      <th>Date</th>\n",
       "      <th></th>\n",
       "      <th></th>\n",
       "      <th></th>\n",
       "      <th></th>\n",
       "      <th></th>\n",
       "      <th></th>\n",
       "    </tr>\n",
       "  </thead>\n",
       "  <tbody>\n",
       "    <tr>\n",
       "      <th>2011-07-11</th>\n",
       "      <td>12.726429</td>\n",
       "      <td>12.848929</td>\n",
       "      <td>12.600714</td>\n",
       "      <td>12.642857</td>\n",
       "      <td>10.871630</td>\n",
       "      <td>442674400</td>\n",
       "    </tr>\n",
       "    <tr>\n",
       "      <th>2011-07-12</th>\n",
       "      <td>12.626071</td>\n",
       "      <td>12.774286</td>\n",
       "      <td>12.450714</td>\n",
       "      <td>12.633929</td>\n",
       "      <td>10.863953</td>\n",
       "      <td>451609200</td>\n",
       "    </tr>\n",
       "    <tr>\n",
       "      <th>2011-07-13</th>\n",
       "      <td>12.797500</td>\n",
       "      <td>12.857143</td>\n",
       "      <td>12.727857</td>\n",
       "      <td>12.786429</td>\n",
       "      <td>10.995090</td>\n",
       "      <td>391638800</td>\n",
       "    </tr>\n",
       "    <tr>\n",
       "      <th>2011-07-14</th>\n",
       "      <td>12.893214</td>\n",
       "      <td>12.914643</td>\n",
       "      <td>12.726429</td>\n",
       "      <td>12.777500</td>\n",
       "      <td>10.987410</td>\n",
       "      <td>430533600</td>\n",
       "    </tr>\n",
       "    <tr>\n",
       "      <th>2011-07-15</th>\n",
       "      <td>12.898929</td>\n",
       "      <td>13.035714</td>\n",
       "      <td>12.827500</td>\n",
       "      <td>13.032857</td>\n",
       "      <td>11.206989</td>\n",
       "      <td>484467200</td>\n",
       "    </tr>\n",
       "    <tr>\n",
       "      <th>...</th>\n",
       "      <td>...</td>\n",
       "      <td>...</td>\n",
       "      <td>...</td>\n",
       "      <td>...</td>\n",
       "      <td>...</td>\n",
       "      <td>...</td>\n",
       "    </tr>\n",
       "    <tr>\n",
       "      <th>2021-07-02</th>\n",
       "      <td>137.899994</td>\n",
       "      <td>140.000000</td>\n",
       "      <td>137.750000</td>\n",
       "      <td>139.960007</td>\n",
       "      <td>139.960007</td>\n",
       "      <td>78852600</td>\n",
       "    </tr>\n",
       "    <tr>\n",
       "      <th>2021-07-06</th>\n",
       "      <td>140.070007</td>\n",
       "      <td>143.149994</td>\n",
       "      <td>140.070007</td>\n",
       "      <td>142.020004</td>\n",
       "      <td>142.020004</td>\n",
       "      <td>108181800</td>\n",
       "    </tr>\n",
       "    <tr>\n",
       "      <th>2021-07-07</th>\n",
       "      <td>143.539993</td>\n",
       "      <td>144.889999</td>\n",
       "      <td>142.660004</td>\n",
       "      <td>144.570007</td>\n",
       "      <td>144.570007</td>\n",
       "      <td>104911600</td>\n",
       "    </tr>\n",
       "    <tr>\n",
       "      <th>2021-07-08</th>\n",
       "      <td>141.580002</td>\n",
       "      <td>144.059998</td>\n",
       "      <td>140.669998</td>\n",
       "      <td>143.240005</td>\n",
       "      <td>143.240005</td>\n",
       "      <td>105575500</td>\n",
       "    </tr>\n",
       "    <tr>\n",
       "      <th>2021-07-09</th>\n",
       "      <td>142.750000</td>\n",
       "      <td>145.649994</td>\n",
       "      <td>142.649994</td>\n",
       "      <td>145.110001</td>\n",
       "      <td>145.110001</td>\n",
       "      <td>99788400</td>\n",
       "    </tr>\n",
       "  </tbody>\n",
       "</table>\n",
       "<p>2517 rows × 6 columns</p>\n",
       "</div>"
      ],
      "text/plain": [
       "                  Open        High         Low       Close   Adj Close  \\\n",
       "Date                                                                     \n",
       "2011-07-11   12.726429   12.848929   12.600714   12.642857   10.871630   \n",
       "2011-07-12   12.626071   12.774286   12.450714   12.633929   10.863953   \n",
       "2011-07-13   12.797500   12.857143   12.727857   12.786429   10.995090   \n",
       "2011-07-14   12.893214   12.914643   12.726429   12.777500   10.987410   \n",
       "2011-07-15   12.898929   13.035714   12.827500   13.032857   11.206989   \n",
       "...                ...         ...         ...         ...         ...   \n",
       "2021-07-02  137.899994  140.000000  137.750000  139.960007  139.960007   \n",
       "2021-07-06  140.070007  143.149994  140.070007  142.020004  142.020004   \n",
       "2021-07-07  143.539993  144.889999  142.660004  144.570007  144.570007   \n",
       "2021-07-08  141.580002  144.059998  140.669998  143.240005  143.240005   \n",
       "2021-07-09  142.750000  145.649994  142.649994  145.110001  145.110001   \n",
       "\n",
       "               Volume  \n",
       "Date                   \n",
       "2011-07-11  442674400  \n",
       "2011-07-12  451609200  \n",
       "2011-07-13  391638800  \n",
       "2011-07-14  430533600  \n",
       "2011-07-15  484467200  \n",
       "...               ...  \n",
       "2021-07-02   78852600  \n",
       "2021-07-06  108181800  \n",
       "2021-07-07  104911600  \n",
       "2021-07-08  105575500  \n",
       "2021-07-09   99788400  \n",
       "\n",
       "[2517 rows x 6 columns]"
      ]
     },
     "execution_count": 4,
     "metadata": {},
     "output_type": "execute_result"
    }
   ],
   "source": [
    "#Dataset that we fetched from YAHOO FINANCE\n",
    "dataset"
   ]
  },
  {
   "cell_type": "code",
   "execution_count": 5,
   "id": "fb84389c",
   "metadata": {},
   "outputs": [],
   "source": [
    "#Here our main concern is OPEN PRICE so we are fetching single column as our final dataset\n",
    "dataset = dataset[\"Open\"]"
   ]
  },
  {
   "cell_type": "code",
   "execution_count": 6,
   "id": "2150179c",
   "metadata": {},
   "outputs": [
    {
     "data": {
      "text/plain": [
       "Date\n",
       "2011-07-11     12.726429\n",
       "2011-07-12     12.626071\n",
       "2011-07-13     12.797500\n",
       "2011-07-14     12.893214\n",
       "2011-07-15     12.898929\n",
       "                 ...    \n",
       "2021-07-02    137.899994\n",
       "2021-07-06    140.070007\n",
       "2021-07-07    143.539993\n",
       "2021-07-08    141.580002\n",
       "2021-07-09    142.750000\n",
       "Name: Open, Length: 2517, dtype: float64"
      ]
     },
     "execution_count": 6,
     "metadata": {},
     "output_type": "execute_result"
    }
   ],
   "source": [
    "#See our final dataset having only OPEN PRICE Data\n",
    "dataset"
   ]
  },
  {
   "cell_type": "code",
   "execution_count": 7,
   "id": "bc594c22",
   "metadata": {},
   "outputs": [
    {
     "data": {
      "text/plain": [
       "(2517,)"
      ]
     },
     "execution_count": 7,
     "metadata": {},
     "output_type": "execute_result"
    }
   ],
   "source": [
    "#1d format data\n",
    "dataset.shape"
   ]
  },
  {
   "cell_type": "code",
   "execution_count": 8,
   "id": "d7b80bd0",
   "metadata": {},
   "outputs": [
    {
     "data": {
      "text/plain": [
       "<AxesSubplot:xlabel='Date'>"
      ]
     },
     "execution_count": 8,
     "metadata": {},
     "output_type": "execute_result"
    },
    {
     "data": {
      "image/png": "[encoded data removed]",
      "text/plain": [
       "<Figure size 432x288 with 1 Axes>"
      ]
     },
     "metadata": {
      "needs_background": "light"
     },
     "output_type": "display_data"
    }
   ],
   "source": [
    "#See graphical representation of OPEN PRICE of our dataset\n",
    "dataset.plot()"
   ]
  },
  {
   "cell_type": "code",
   "execution_count": 9,
   "id": "afe7555a",
   "metadata": {},
   "outputs": [
    {
     "data": {
      "text/plain": [
       "pandas.core.series.Series"
      ]
     },
     "execution_count": 9,
     "metadata": {},
     "output_type": "execute_result"
    }
   ],
   "source": [
    "type(dataset)"
   ]
  },
  {
   "cell_type": "code",
   "execution_count": 10,
   "id": "bf676872",
   "metadata": {},
   "outputs": [],
   "source": [
    "#Converting datatype of dataset from pandas dataframe to numpy array for further operations on it\n",
    "dataset = dataset.to_numpy()"
   ]
  },
  {
   "cell_type": "code",
   "execution_count": 11,
   "id": "6bcc919a",
   "metadata": {},
   "outputs": [
    {
     "data": {
      "text/plain": [
       "numpy.ndarray"
      ]
     },
     "execution_count": 11,
     "metadata": {},
     "output_type": "execute_result"
    }
   ],
   "source": [
    "type(dataset)"
   ]
  },
  {
   "cell_type": "code",
   "execution_count": 12,
   "id": "2d672406",
   "metadata": {},
   "outputs": [
    {
     "data": {
      "text/plain": [
       "(2517,)"
      ]
     },
     "execution_count": 12,
     "metadata": {},
     "output_type": "execute_result"
    }
   ],
   "source": [
    "#Only datatype changes but shape remains same\n",
    "dataset.shape"
   ]
  },
  {
   "cell_type": "code",
   "execution_count": 13,
   "id": "63023e71",
   "metadata": {},
   "outputs": [],
   "source": [
    "import matplotlib.pyplot as plt\n",
    "import numpy as np"
   ]
  },
  {
   "cell_type": "code",
   "execution_count": 14,
   "id": "a69bce3e",
   "metadata": {},
   "outputs": [
    {
     "data": {
      "text/plain": [
       "[<matplotlib.lines.Line2D at 0x7f3438f0c2d0>]"
      ]
     },
     "execution_count": 14,
     "metadata": {},
     "output_type": "execute_result"
    },
    {
     "data": {
      "image/png": "[encoded data removed]",
      "text/plain": [
       "<Figure size 432x288 with 1 Axes>"
      ]
     },
     "metadata": {
      "needs_background": "light"
     },
     "output_type": "display_data"
    }
   ],
   "source": [
    "#Graphical representation of OPEN PRICE dataset we would work upon later\n",
    "#same graph\n",
    "plt.plot(dataset)"
   ]
  },
  {
   "cell_type": "code",
   "execution_count": 15,
   "id": "4f4ff6f3",
   "metadata": {},
   "outputs": [],
   "source": [
    "#Importing MinMaxScaler function from sklearn.preprocessing\n",
    "from sklearn.preprocessing import MinMaxScaler"
   ]
  },
  {
   "cell_type": "code",
   "execution_count": 16,
   "id": "22f0f896",
   "metadata": {},
   "outputs": [],
   "source": [
    "#Using MinMaxScaler for creating normaliser to scale/normalise our data between 0 to 1\n",
    "normalizer = MinMaxScaler(feature_range=(0,1))"
   ]
  },
  {
   "cell_type": "code",
   "execution_count": 17,
   "id": "44bc326f",
   "metadata": {},
   "outputs": [
    {
     "data": {
      "text/plain": [
       "(2517, 1)"
      ]
     },
     "execution_count": 17,
     "metadata": {},
     "output_type": "execute_result"
    }
   ],
   "source": [
    "#Converting 1d ==>2D to feed data to normalizer as it accepts only 2D data\n",
    "dataset = dataset.reshape((-1,1))\n",
    "dataset.shape"
   ]
  },
  {
   "cell_type": "code",
   "execution_count": 18,
   "id": "97d1ceca",
   "metadata": {},
   "outputs": [],
   "source": [
    "#Scaling our dataset to a scale of 0 to 1 and saving scaled data to another \n",
    "#variable named \"dataset_scaled\"\n",
    "dataset_scaled = normalizer.fit_transform(dataset)"
   ]
  },
  {
   "cell_type": "code",
   "execution_count": 19,
   "id": "d3c710f6",
   "metadata": {},
   "outputs": [
    {
     "data": {
      "text/plain": [
       "array([[7.66244133e-04],\n",
       "       [0.00000000e+00],\n",
       "       [1.30887631e-03],\n",
       "       ...,\n",
       "       [9.99541796e-01],\n",
       "       [9.84577051e-01],\n",
       "       [9.93510113e-01]])"
      ]
     },
     "execution_count": 19,
     "metadata": {},
     "output_type": "execute_result"
    }
   ],
   "source": [
    "dataset_scaled"
   ]
  },
  {
   "cell_type": "code",
   "execution_count": 20,
   "id": "eaec4241",
   "metadata": {},
   "outputs": [
    {
     "data": {
      "text/plain": [
       "[<matplotlib.lines.Line2D at 0x7f34360a0a50>]"
      ]
     },
     "execution_count": 20,
     "metadata": {},
     "output_type": "execute_result"
    },
    {
     "data": {
      "image/png": "[encoded data removed]",
      "text/plain": [
       "<Figure size 432x288 with 1 Axes>"
      ]
     },
     "metadata": {
      "needs_background": "light"
     },
     "output_type": "display_data"
    }
   ],
   "source": [
    "#See graphical representation of our data as its values are scaled from 0 to 1\n",
    "plt.plot(dataset_scaled)"
   ]
  },
  {
   "cell_type": "code",
   "execution_count": 21,
   "id": "bf1f23ad",
   "metadata": {},
   "outputs": [],
   "source": [
    "#Splitting data into train and test split\n",
    "#Specifying train split percentage for train-test split\n",
    "#Here we require 70% data as training data\n",
    "train_split_percent = 70"
   ]
  },
  {
   "cell_type": "code",
   "execution_count": 22,
   "id": "502e53ac",
   "metadata": {},
   "outputs": [],
   "source": [
    "#Calculating training set and testing set size\n",
    "train_split_size = int(len(dataset_scaled) * ( train_split_percent * 0.01))\n",
    "test_split_size = int(len(dataset_scaled) * ((100 - train_split_percent) * 0.01))"
   ]
  },
  {
   "cell_type": "code",
   "execution_count": 23,
   "id": "96b50b3c",
   "metadata": {},
   "outputs": [
    {
     "data": {
      "text/plain": [
       "(2517, 1)"
      ]
     },
     "execution_count": 23,
     "metadata": {},
     "output_type": "execute_result"
    }
   ],
   "source": [
    "dataset_scaled.shape"
   ]
  },
  {
   "cell_type": "code",
   "execution_count": 24,
   "id": "54b802ff",
   "metadata": {},
   "outputs": [
    {
     "data": {
      "text/plain": [
       "1761"
      ]
     },
     "execution_count": 24,
     "metadata": {},
     "output_type": "execute_result"
    }
   ],
   "source": [
    "train_split_size"
   ]
  },
  {
   "cell_type": "code",
   "execution_count": 25,
   "id": "22216cef",
   "metadata": {},
   "outputs": [
    {
     "data": {
      "text/plain": [
       "755"
      ]
     },
     "execution_count": 25,
     "metadata": {},
     "output_type": "execute_result"
    }
   ],
   "source": [
    "test_split_size"
   ]
  },
  {
   "cell_type": "code",
   "execution_count": 26,
   "id": "6bebcdd8",
   "metadata": {},
   "outputs": [],
   "source": [
    "#Splitting Actual dataset into train and test data for training model\n",
    "train_dataset = dataset_scaled[0:train_split_size]\n",
    "test_dataset = dataset_scaled[train_split_size:]"
   ]
  },
  {
   "cell_type": "code",
   "execution_count": 27,
   "id": "3b943925",
   "metadata": {},
   "outputs": [
    {
     "data": {
      "text/plain": [
       "(1761, 1)"
      ]
     },
     "execution_count": 27,
     "metadata": {},
     "output_type": "execute_result"
    }
   ],
   "source": [
    "train_dataset.shape"
   ]
  },
  {
   "cell_type": "code",
   "execution_count": 28,
   "id": "ddf173f2",
   "metadata": {},
   "outputs": [
    {
     "data": {
      "text/plain": [
       "(756, 1)"
      ]
     },
     "execution_count": 28,
     "metadata": {},
     "output_type": "execute_result"
    }
   ],
   "source": [
    "test_dataset.shape"
   ]
  },
  {
   "cell_type": "code",
   "execution_count": 29,
   "id": "fd16a97a",
   "metadata": {},
   "outputs": [],
   "source": [
    "#Creating timeseries dataset to feed into LTSM Model\n",
    "def create_dataset(dataset,step):\n",
    "    x = []\n",
    "    y = []\n",
    "    for i in range(len(dataset)-step):\n",
    "        x.append(dataset[i:i+step])\n",
    "        y.append(dataset[i+step])\n",
    "    return np.array(x),np.array(y)"
   ]
  },
  {
   "cell_type": "code",
   "execution_count": 30,
   "id": "b372c527",
   "metadata": {},
   "outputs": [],
   "source": [
    "#Here in our case data repeats its pattern in particular step period\n",
    "step=5"
   ]
  },
  {
   "cell_type": "code",
   "execution_count": 31,
   "id": "495a735e",
   "metadata": {},
   "outputs": [],
   "source": [
    "#Creating X and Y to feed into model for training\n",
    "trainX , trainY = create_dataset(train_dataset,step)"
   ]
  },
  {
   "cell_type": "code",
   "execution_count": 32,
   "id": "0f9c9aaa",
   "metadata": {},
   "outputs": [
    {
     "data": {
      "text/plain": [
       "(1756, 5, 1)"
      ]
     },
     "execution_count": 32,
     "metadata": {},
     "output_type": "execute_result"
    }
   ],
   "source": [
    "trainX.shape"
   ]
  },
  {
   "cell_type": "code",
   "execution_count": 33,
   "id": "95dd4f12",
   "metadata": {},
   "outputs": [],
   "source": [
    "#Creating X and Y to test accuracy of our model\n",
    "testX , testY = create_dataset(test_dataset,step)"
   ]
  },
  {
   "cell_type": "code",
   "execution_count": 34,
   "id": "ac126655",
   "metadata": {},
   "outputs": [
    {
     "data": {
      "text/plain": [
       "(751, 5, 1)"
      ]
     },
     "execution_count": 34,
     "metadata": {},
     "output_type": "execute_result"
    }
   ],
   "source": [
    "testX.shape"
   ]
  },
  {
   "cell_type": "code",
   "execution_count": 35,
   "id": "63748a25",
   "metadata": {},
   "outputs": [],
   "source": [
    "from keras.models import Sequential\n",
    "from keras.layers import Dense,LSTM"
   ]
  },
  {
   "cell_type": "code",
   "execution_count": 36,
   "id": "1fd42f7e",
   "metadata": {},
   "outputs": [],
   "source": [
    "#Creating LSTM Model using 6 layers\n",
    "model = Sequential()\n",
    "model.add(LSTM(units=70,return_sequences=True,input_shape=(trainX.shape[1],trainX.shape[2])))\n",
    "model.add(LSTM(units=70,return_sequences=True))\n",
    "model.add(LSTM(units=70,return_sequences=True))\n",
    "model.add(LSTM(units=70,return_sequences=True))\n",
    "model.add(LSTM(units=70))\n",
    "model.add(Dense(units=1,activation=\"linear\"))   #last layer of our model"
   ]
  },
  {
   "cell_type": "code",
   "execution_count": 37,
   "id": "2614eb99",
   "metadata": {},
   "outputs": [
    {
     "name": "stdout",
     "output_type": "stream",
     "text": [
      "Model: \"sequential\"\n",
      "_________________________________________________________________\n",
      "Layer (type)                 Output Shape              Param #   \n",
      "=================================================================\n",
      "lstm (LSTM)                  (None, 5, 70)             20160     \n",
      "_________________________________________________________________\n",
      "lstm_1 (LSTM)                (None, 5, 70)             39480     \n",
      "_________________________________________________________________\n",
      "lstm_2 (LSTM)                (None, 5, 70)             39480     \n",
      "_________________________________________________________________\n",
      "lstm_3 (LSTM)                (None, 5, 70)             39480     \n",
      "_________________________________________________________________\n",
      "lstm_4 (LSTM)                (None, 70)                39480     \n",
      "_________________________________________________________________\n",
      "dense (Dense)                (None, 1)                 71        \n",
      "=================================================================\n",
      "Total params: 178,151\n",
      "Trainable params: 178,151\n",
      "Non-trainable params: 0\n",
      "_________________________________________________________________\n"
     ]
    }
   ],
   "source": [
    "model.summary()"
   ]
  },
  {
   "cell_type": "code",
   "execution_count": 38,
   "id": "edda3b32",
   "metadata": {},
   "outputs": [
    {
     "name": "stdout",
     "output_type": "stream",
     "text": [
      "Epoch 1/100\n",
      "55/55 [==============================] - 20s 53ms/step - loss: 0.0063\n",
      "Epoch 2/100\n",
      "55/55 [==============================] - 3s 49ms/step - loss: 9.9317e-05\n",
      "Epoch 3/100\n",
      "55/55 [==============================] - 3s 48ms/step - loss: 4.1875e-05\n",
      "Epoch 4/100\n",
      "55/55 [==============================] - 3s 49ms/step - loss: 4.4610e-05\n",
      "Epoch 5/100\n",
      "55/55 [==============================] - 3s 49ms/step - loss: 4.3587e-05\n",
      "Epoch 6/100\n",
      "55/55 [==============================] - 3s 50ms/step - loss: 4.3537e-05\n",
      "Epoch 7/100\n",
      "55/55 [==============================] - 3s 49ms/step - loss: 4.3398e-05\n",
      "Epoch 8/100\n",
      "55/55 [==============================] - 3s 51ms/step - loss: 4.6739e-05\n",
      "Epoch 9/100\n",
      "55/55 [==============================] - 3s 48ms/step - loss: 5.5046e-05\n",
      "Epoch 10/100\n",
      "55/55 [==============================] - 3s 48ms/step - loss: 4.6151e-05\n",
      "Epoch 11/100\n",
      "55/55 [==============================] - 3s 50ms/step - loss: 5.8062e-05\n",
      "Epoch 12/100\n",
      "55/55 [==============================] - 3s 50ms/step - loss: 3.8051e-05\n",
      "Epoch 13/100\n",
      "55/55 [==============================] - 3s 52ms/step - loss: 4.4303e-05\n",
      "Epoch 14/100\n",
      "55/55 [==============================] - 3s 51ms/step - loss: 5.5883e-05\n",
      "Epoch 15/100\n",
      "55/55 [==============================] - 3s 51ms/step - loss: 6.0662e-05\n",
      "Epoch 16/100\n",
      "55/55 [==============================] - 3s 50ms/step - loss: 3.7743e-05\n",
      "Epoch 17/100\n",
      "55/55 [==============================] - 3s 51ms/step - loss: 3.6495e-05\n",
      "Epoch 18/100\n",
      "55/55 [==============================] - 3s 49ms/step - loss: 4.1984e-05\n",
      "Epoch 19/100\n",
      "55/55 [==============================] - 3s 51ms/step - loss: 5.4167e-05\n",
      "Epoch 20/100\n",
      "55/55 [==============================] - 3s 51ms/step - loss: 3.9270e-05\n",
      "Epoch 21/100\n",
      "55/55 [==============================] - 3s 52ms/step - loss: 7.1307e-05\n",
      "Epoch 22/100\n",
      "55/55 [==============================] - 3s 50ms/step - loss: 4.0423e-05\n",
      "Epoch 23/100\n",
      "55/55 [==============================] - 3s 52ms/step - loss: 4.3921e-05\n",
      "Epoch 24/100\n",
      "55/55 [==============================] - 3s 52ms/step - loss: 5.3784e-05\n",
      "Epoch 25/100\n",
      "55/55 [==============================] - 3s 53ms/step - loss: 6.0744e-05\n",
      "Epoch 26/100\n",
      "55/55 [==============================] - 3s 52ms/step - loss: 6.1030e-05\n",
      "Epoch 27/100\n",
      "55/55 [==============================] - 3s 51ms/step - loss: 5.0189e-05\n",
      "Epoch 28/100\n",
      "55/55 [==============================] - 3s 51ms/step - loss: 5.2375e-05\n",
      "Epoch 29/100\n",
      "55/55 [==============================] - 3s 50ms/step - loss: 3.8959e-05\n",
      "Epoch 30/100\n",
      "55/55 [==============================] - 3s 53ms/step - loss: 3.7634e-05\n",
      "Epoch 31/100\n",
      "55/55 [==============================] - 3s 52ms/step - loss: 4.6109e-05\n",
      "Epoch 32/100\n",
      "55/55 [==============================] - 3s 52ms/step - loss: 3.9190e-05\n",
      "Epoch 33/100\n",
      "55/55 [==============================] - 3s 53ms/step - loss: 5.4209e-05\n",
      "Epoch 34/100\n",
      "55/55 [==============================] - 3s 49ms/step - loss: 4.5649e-05\n",
      "Epoch 35/100\n",
      "55/55 [==============================] - 3s 52ms/step - loss: 3.9175e-05\n",
      "Epoch 36/100\n",
      "55/55 [==============================] - 3s 54ms/step - loss: 3.4814e-05\n",
      "Epoch 37/100\n",
      "55/55 [==============================] - 3s 53ms/step - loss: 3.8828e-05\n",
      "Epoch 38/100\n",
      "55/55 [==============================] - 3s 54ms/step - loss: 5.2280e-05\n",
      "Epoch 39/100\n",
      "55/55 [==============================] - 3s 52ms/step - loss: 3.5884e-05\n",
      "Epoch 40/100\n",
      "55/55 [==============================] - 3s 54ms/step - loss: 4.2025e-05\n",
      "Epoch 41/100\n",
      "55/55 [==============================] - 3s 54ms/step - loss: 3.6668e-05\n",
      "Epoch 42/100\n",
      "55/55 [==============================] - 3s 53ms/step - loss: 4.3169e-05\n",
      "Epoch 43/100\n",
      "55/55 [==============================] - 3s 53ms/step - loss: 3.5355e-05\n",
      "Epoch 44/100\n",
      "55/55 [==============================] - 3s 55ms/step - loss: 3.4151e-05\n",
      "Epoch 45/100\n",
      "55/55 [==============================] - 3s 54ms/step - loss: 3.7416e-05\n",
      "Epoch 46/100\n",
      "55/55 [==============================] - 3s 53ms/step - loss: 3.5773e-05\n",
      "Epoch 47/100\n",
      "55/55 [==============================] - 3s 53ms/step - loss: 3.9899e-05\n",
      "Epoch 48/100\n",
      "55/55 [==============================] - 3s 57ms/step - loss: 3.7508e-05\n",
      "Epoch 49/100\n",
      "55/55 [==============================] - 3s 53ms/step - loss: 4.6518e-05\n",
      "Epoch 50/100\n",
      "55/55 [==============================] - 3s 55ms/step - loss: 3.9074e-05\n",
      "Epoch 51/100\n",
      "55/55 [==============================] - 3s 50ms/step - loss: 3.2229e-05\n",
      "Epoch 52/100\n",
      "55/55 [==============================] - 3s 53ms/step - loss: 3.8764e-05\n",
      "Epoch 53/100\n",
      "55/55 [==============================] - 3s 52ms/step - loss: 4.1244e-05\n",
      "Epoch 54/100\n",
      "55/55 [==============================] - 3s 54ms/step - loss: 3.3589e-05\n",
      "Epoch 55/100\n",
      "55/55 [==============================] - 3s 55ms/step - loss: 3.4342e-05\n",
      "Epoch 56/100\n",
      "55/55 [==============================] - 3s 53ms/step - loss: 3.9601e-05\n",
      "Epoch 57/100\n",
      "55/55 [==============================] - 3s 54ms/step - loss: 4.5421e-05\n",
      "Epoch 58/100\n",
      "55/55 [==============================] - 3s 53ms/step - loss: 3.2376e-05\n",
      "Epoch 59/100\n",
      "55/55 [==============================] - 3s 53ms/step - loss: 4.3351e-05\n",
      "Epoch 60/100\n",
      "55/55 [==============================] - 3s 57ms/step - loss: 3.1843e-05\n",
      "Epoch 61/100\n",
      "55/55 [==============================] - 3s 53ms/step - loss: 3.7411e-05\n",
      "Epoch 62/100\n",
      "55/55 [==============================] - 3s 57ms/step - loss: 4.8914e-05\n",
      "Epoch 63/100\n",
      "55/55 [==============================] - 3s 57ms/step - loss: 3.1447e-05\n",
      "Epoch 64/100\n",
      "55/55 [==============================] - 3s 61ms/step - loss: 3.3479e-05\n",
      "Epoch 65/100\n",
      "55/55 [==============================] - 3s 63ms/step - loss: 4.4378e-05\n",
      "Epoch 66/100\n",
      "55/55 [==============================] - 4s 65ms/step - loss: 3.4786e-05\n",
      "Epoch 67/100\n",
      "55/55 [==============================] - 3s 63ms/step - loss: 3.5941e-05\n",
      "Epoch 68/100\n",
      "55/55 [==============================] - 3s 58ms/step - loss: 3.3395e-05\n",
      "Epoch 69/100\n",
      "55/55 [==============================] - 3s 62ms/step - loss: 3.0160e-05\n",
      "Epoch 70/100\n",
      "55/55 [==============================] - 3s 56ms/step - loss: 3.0666e-05\n",
      "Epoch 71/100\n",
      "55/55 [==============================] - 3s 54ms/step - loss: 3.3588e-05\n",
      "Epoch 72/100\n",
      "55/55 [==============================] - 3s 52ms/step - loss: 3.8973e-05\n",
      "Epoch 73/100\n",
      "55/55 [==============================] - 3s 56ms/step - loss: 3.2789e-05\n",
      "Epoch 74/100\n",
      "55/55 [==============================] - 3s 52ms/step - loss: 2.9877e-05\n",
      "Epoch 75/100\n",
      "55/55 [==============================] - 3s 53ms/step - loss: 2.9223e-05\n",
      "Epoch 76/100\n",
      "55/55 [==============================] - 3s 55ms/step - loss: 2.6656e-05\n",
      "Epoch 77/100\n",
      "55/55 [==============================] - 3s 52ms/step - loss: 2.6223e-05\n",
      "Epoch 78/100\n",
      "55/55 [==============================] - 3s 52ms/step - loss: 2.8069e-05\n",
      "Epoch 79/100\n",
      "55/55 [==============================] - 3s 53ms/step - loss: 3.3128e-05\n",
      "Epoch 80/100\n",
      "55/55 [==============================] - 3s 55ms/step - loss: 3.4428e-05\n",
      "Epoch 81/100\n",
      "55/55 [==============================] - 3s 54ms/step - loss: 2.6558e-05\n",
      "Epoch 82/100\n",
      "55/55 [==============================] - 3s 53ms/step - loss: 2.0802e-05\n",
      "Epoch 83/100\n",
      "55/55 [==============================] - 3s 53ms/step - loss: 2.3209e-05\n",
      "Epoch 84/100\n",
      "55/55 [==============================] - 3s 53ms/step - loss: 2.9191e-05\n",
      "Epoch 85/100\n",
      "55/55 [==============================] - 3s 54ms/step - loss: 2.1645e-05\n",
      "Epoch 86/100\n",
      "55/55 [==============================] - 3s 53ms/step - loss: 1.7723e-05\n",
      "Epoch 87/100\n",
      "55/55 [==============================] - 3s 53ms/step - loss: 2.0412e-05\n",
      "Epoch 88/100\n",
      "55/55 [==============================] - 3s 53ms/step - loss: 1.9543e-05\n",
      "Epoch 89/100\n",
      "55/55 [==============================] - 3s 53ms/step - loss: 2.3755e-05\n",
      "Epoch 90/100\n",
      "55/55 [==============================] - 3s 55ms/step - loss: 1.9294e-05\n",
      "Epoch 91/100\n",
      "55/55 [==============================] - 3s 54ms/step - loss: 1.5941e-05\n",
      "Epoch 92/100\n",
      "55/55 [==============================] - 3s 56ms/step - loss: 1.9725e-05\n",
      "Epoch 93/100\n",
      "55/55 [==============================] - 3s 54ms/step - loss: 1.4981e-05\n",
      "Epoch 94/100\n",
      "55/55 [==============================] - 3s 55ms/step - loss: 1.4801e-05\n",
      "Epoch 95/100\n",
      "55/55 [==============================] - 3s 54ms/step - loss: 1.6339e-05\n",
      "Epoch 96/100\n",
      "55/55 [==============================] - 2s 39ms/step - loss: 2.1571e-05\n",
      "Epoch 97/100\n",
      "55/55 [==============================] - 2s 40ms/step - loss: 1.5744e-05\n",
      "Epoch 98/100\n",
      "55/55 [==============================] - 2s 39ms/step - loss: 1.5782e-05\n",
      "Epoch 99/100\n",
      "55/55 [==============================] - 2s 39ms/step - loss: 1.7026e-05\n",
      "Epoch 100/100\n",
      "55/55 [==============================] - 2s 40ms/step - loss: 1.3898e-05\n"
     ]
    }
   ],
   "source": [
    "#Feeding data into model and training it using Adam optimizer and mean_squared_error function\n",
    "model.compile(optimizer=\"adam\",loss=\"mean_squared_error\")\n",
    "model.fit(trainX,trainY,epochs=100)\n",
    "model.save(\"model.h5\")"
   ]
  },
  {
   "cell_type": "code",
   "execution_count": 39,
   "id": "6ca188ee",
   "metadata": {},
   "outputs": [
    {
     "data": {
      "text/plain": [
       "[<matplotlib.lines.Line2D at 0x7f3413127bd0>]"
      ]
     },
     "execution_count": 39,
     "metadata": {},
     "output_type": "execute_result"
    },
    {
     "data": {
      "image/png": "[encoded data removed]",
      "text/plain": [
       "<Figure size 432x288 with 1 Axes>"
      ]
     },
     "metadata": {
      "needs_background": "light"
     },
     "output_type": "display_data"
    }
   ],
   "source": [
    "#Lets perform graphical representation of loss of trained model\n",
    "plt.plot(model.history.history[\"loss\"])"
   ]
  },
  {
   "cell_type": "code",
   "execution_count": 40,
   "id": "21000e75",
   "metadata": {},
   "outputs": [],
   "source": [
    "#Using Trained Model for performing prediction on test data and train data.Finally, merging\n",
    "#to represent in single graph and performing inverse transform on top of it\n",
    "train_predict = model.predict(trainX)\n",
    "test_predict = model.predict(testX)\n",
    "predicted_data = np.vstack((train_predict,test_predict))\n",
    "predicted_data = normalizer.inverse_transform(predicted_data)"
   ]
  },
  {
   "cell_type": "code",
   "execution_count": 41,
   "id": "e03fd596",
   "metadata": {},
   "outputs": [
    {
     "data": {
      "text/plain": [
       "[<matplotlib.lines.Line2D at 0x7f3412328510>]"
      ]
     },
     "execution_count": 41,
     "metadata": {},
     "output_type": "execute_result"
    },
    {
     "data": {
      "image/png": "[encoded data removed]",
      "text/plain": [
       "<Figure size 432x288 with 1 Axes>"
      ]
     },
     "metadata": {
      "needs_background": "light"
     },
     "output_type": "display_data"
    }
   ],
   "source": [
    "#Lets compare predicted data with actual data via graphical representation\n",
    "plt.plot(dataset,color=\"red\")  #actual data\n",
    "plt.plot(predicted_data,color=\"green\")  #predicted data\n",
    "#See graph is overlapping so its an accurate model"
   ]
  },
  {
   "cell_type": "code",
   "execution_count": null,
   "id": "ab85152e",
   "metadata": {},
   "outputs": [],
   "source": [
    "#function for sending email\n",
    "def email_sent():\n",
    "    import smtplib\n",
    "    from email.mime.multipart import MIMEMultipart\n",
    "    from email.mime.text import MIMEText\n",
    "    from email.mime.base import MIMEBase\n",
    "    from email import encoders\n",
    "    fromaddr = \"sender_email_address\"\n",
    "    toaddr = \"recipent_email_address\"\n",
    "# instance of MIMEMultipart\n",
    "    msg = MIMEMultipart()\n",
    "# storing the senders email address  \n",
    "    msg['From'] = fromaddr\n",
    "# storing the receivers email address \n",
    "    msg['To'] = toaddr\n",
    "# storing the subject \n",
    "    msg['Subject'] = \"THRESHOLD REACHED!!!!\"\n",
    "# string to store the body of the mail\n",
    "    body = \"Your Specified Threshold is reached...\"\n",
    "# attach the body with the msg instance\n",
    "    msg.attach(MIMEText(body, 'plain'))\n",
    "# open the file to be sent \n",
    "    filename = \"graph.png\"\n",
    "    attachment = open(\"./graph.png\", \"rb\")\n",
    "# instance of MIMEBase and named as p\n",
    "    p = MIMEBase('application', 'octet-stream')\n",
    "# To change the payload into encoded form\n",
    "    p.set_payload((attachment).read())\n",
    "# encode into base64\n",
    "    encoders.encode_base64(p)\n",
    "    p.add_header('Content-Disposition', \"attachment; filename= %s\" % filename)\n",
    "# attach the instance 'p' to instance 'msg'\n",
    "    msg.attach(p)\n",
    "# creates SMTP session\n",
    "    s = smtplib.SMTP('smtp.gmail.com', 587)\n",
    "# start TLS for security\n",
    "    s.starttls()\n",
    "# Authentication\n",
    "    s.login(fromaddr, \"password_of_sender\")\n",
    "# Converts the Multipart msg into a string\n",
    "    text = msg.as_string()\n",
    "# sending the mail\n",
    "    s.sendmail(fromaddr, toaddr, text)\n",
    "# terminating the session\n",
    "    s.quit()"
   ]
  },
  {
   "cell_type": "code",
   "execution_count": 47,
   "id": "b70cf663",
   "metadata": {},
   "outputs": [],
   "source": [
    "#We can see our Trained Model is Accurate in predicting test values. Lets predict future \n",
    "#values using currently available data.\n",
    "def future_prediction(dataset,model,step,days_to_predict,threshold_value):\n",
    "    new_dataset = dataset\n",
    "    for i in range(days_to_predict):\n",
    "        step_data = new_dataset[-step:]\n",
    "        step_data = step_data.reshape((1,step_data.shape[0],1))\n",
    "        predicted_future_value = model.predict(step_data)\n",
    "        predicted_future_value = predicted_future_value.reshape(1)\n",
    "        new_dataset = np.vstack((new_dataset,predicted_future_value))\n",
    "        if predicted_future_value >= threshold_value:\n",
    "            break\n",
    "        else:\n",
    "            pass\n",
    "    plt.plot(normalizer.inverse_transform(new_dataset),color=\"red\")\n",
    "    plt.ylabel(\"Price\")\n",
    "    plt.xlabel(\"Time\")\n",
    "    plt.axhline(y=threshold_value,color=\"blue\")\n",
    "    plt.savefig(\"./graph.png\")\n",
    "    email_sent()"
   ]
  },
  {
   "cell_type": "code",
   "execution_count": 50,
   "id": "43e47bfc",
   "metadata": {},
   "outputs": [
    {
     "data": {
      "image/png": "[encoded data removed]",
      "text/plain": [
       "<Figure size 432x288 with 1 Axes>"
      ]
     },
     "metadata": {
      "needs_background": "light"
     },
     "output_type": "display_data"
    }
   ],
   "source": [
    "#Predicting OPEN PRICE for future days\n",
    "future_prediction(dataset=dataset_scaled,\n",
    "                  model=model,\n",
    "                  step=5,\n",
    "                  days_to_predict=50,\n",
    "                  threshold_value=190)"
   ]
  },
  {
   "cell_type": "code",
   "execution_count": null,
   "id": "c3343abf",
   "metadata": {},
   "outputs": [],
   "source": []
  },
  {
   "cell_type": "code",
   "execution_count": null,
   "id": "cab9388c",
   "metadata": {},
   "outputs": [],
   "source": []
  },
  {
   "cell_type": "code",
   "execution_count": null,
   "id": "5afe2384",
   "metadata": {},
   "outputs": [],
   "source": []
  },
  {
   "cell_type": "code",
   "execution_count": null,
   "id": "9a1371e5",
   "metadata": {},
   "outputs": [],
   "source": []
  },
  {
   "cell_type": "code",
   "execution_count": null,
   "id": "d5384378",
   "metadata": {},
   "outputs": [],
   "source": []
  },
  {
   "cell_type": "code",
   "execution_count": null,
   "id": "80df89c2",
   "metadata": {},
   "outputs": [],
   "source": []
  },
  {
   "cell_type": "code",
   "execution_count": null,
   "id": "ea15d753",
   "metadata": {},
   "outputs": [],
   "source": []
  },
  {
   "cell_type": "code",
   "execution_count": null,
   "id": "76d87c03",
   "metadata": {},
   "outputs": [],
   "source": []
  },
  {
   "cell_type": "code",
   "execution_count": 44,
   "id": "f394194e",
   "metadata": {},
   "outputs": [],
   "source": []
  },
  {
   "cell_type": "code",
   "execution_count": null,
   "id": "1006a7b1",
   "metadata": {},
   "outputs": [],
   "source": []
  }
 ],
 "metadata": {
  "kernelspec": {
   "display_name": "Python 3",
   "language": "python",
   "name": "python3"
  },
  "language_info": {
   "codemirror_mode": {
    "name": "ipython",
    "version": 3
   },
   "file_extension": ".py",
   "mimetype": "text/x-python",
   "name": "python",
   "nbconvert_exporter": "python",
   "pygments_lexer": "ipython3",
   "version": "3.7.10"
  }
 },
 "nbformat": 4,
 "nbformat_minor": 5
}
